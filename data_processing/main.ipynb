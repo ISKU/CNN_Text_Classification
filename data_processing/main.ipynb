{
 "cells": [
  {
   "cell_type": "code",
   "execution_count": 1,
   "metadata": {
    "collapsed": true
   },
   "outputs": [],
   "source": [
    "import db_manager\n",
    "import parser\n",
    "\n",
    "path_target = '/home/kmh/Dataset/articles.A-B.xml'\n",
    "\n",
    "class Main:\n",
    "    def __init__(self):\n",
    "        self.parser = parser.Parser()\n",
    "        self.db_manager = db_manager.DB_manager()\n",
    "        \n",
    "    def run(self):\n",
    "#         i = 1\n",
    "        for xml in list(map(lambda s : s.strip(), open(path_target + '.txt', 'r').readlines())) :\n",
    "#             if i == 10 :\n",
    "#                 break\n",
    "#             i = i + 1\n",
    "            \n",
    "            try :\n",
    "                self.parser.set_article(path_target + '/' + xml)\n",
    "                sql = self.db_manager.sql_insert_into_pmid(self.parser.get_pmid(), self.parser.get_abstract()) \\\n",
    "                        + self.db_manager.sql_insert_into_abstract(self.parser.get_pmid(), self.parser.get_su(), self.parser.get_ppub()) \\\n",
    "                        + self.db_manager.sql_get_all_sentence(self.parser.get_pmid(), self.parser.get_map_label(), self.parser.get_origin_label(), self.parser.get_sentence())\n",
    "                self.db_manager.commit(sql.encode())\n",
    "                \n",
    "#                 self.parser.print()\n",
    "#                 print(sql)\n",
    "#                 print('\\n\\n')\n",
    "            except Exception as error:\n",
    "                print(xml)\n",
    "                print(error)\n",
    "                continue\n",
    "                \n",
    "        self.db_manager.finish()"
   ]
  },
  {
   "cell_type": "code",
   "execution_count": 2,
   "metadata": {
    "collapsed": true
   },
   "outputs": [],
   "source": [
    "if __name__ == \"__main__\" :\n",
    "    Main().run()"
   ]
  }
 ],
 "metadata": {
  "kernelspec": {
   "display_name": "Python 3",
   "language": "python",
   "name": "python3"
  },
  "language_info": {
   "codemirror_mode": {
    "name": "ipython",
    "version": 3
   },
   "file_extension": ".py",
   "mimetype": "text/x-python",
   "name": "python",
   "nbconvert_exporter": "python",
   "pygments_lexer": "ipython3",
   "version": "3.5.2"
  }
 },
 "nbformat": 4,
 "nbformat_minor": 2
}
