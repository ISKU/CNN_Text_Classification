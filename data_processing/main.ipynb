{
 "cells": [
  {
   "cell_type": "code",
   "execution_count": 73,
   "metadata": {},
   "outputs": [],
   "source": [
    "import db_manager\n",
    "import parser\n",
    "import datetime\n",
    "\n",
    "path_target = '/home/kmh/Dataset/articles.A-B.xml'\n",
    "\n",
    "class Main:\n",
    "    def __init__(self):\n",
    "        self.parser = parser.Parser()\n",
    "        self.db_manager = db_manager.DB_manager()\n",
    "        \n",
    "        self.file_fail_list = open('fail_list.txt', 'w')\n",
    "        self.file_checkpoint =  open('.checkpoint', 'r+')\n",
    "        self.checkpoint = int(list(map(lambda s : s.strip(), self.file_checkpoint.readlines()))[-1].split(' | ')[0])\n",
    "\n",
    "    def run(self):\n",
    "        xmls = list(map(lambda s : s.strip(), open(path_target + '.txt', 'r').readlines()))\n",
    "        total_number = len(xmls)\n",
    "        fail_number = 0\n",
    "        \n",
    "        print('\\n* Start Checkpoint: %d\\n' % self.checkpoint)\n",
    "        for xml in xmls[self.checkpoint:] :\n",
    "            print('%d / %d, Fail: %d' % (self.checkpoint + 1, total_number, fail_number))\n",
    "            self.checkpoint += 1\n",
    "\n",
    "            try :\n",
    "                self.parser.set_article(path_target + '/' + xml)\n",
    "                sql = self.db_manager.sql_insert_into_pmid(self.parser.get_pmid(), self.parser.get_abstract()) \\\n",
    "                        + self.db_manager.sql_insert_into_abstract(self.parser.get_pmid(), self.parser.get_su(), self.parser.get_ppub()) \\\n",
    "                        + self.db_manager.sql_get_all_sentence(self.parser.get_pmid(), self.parser.get_map_label(), self.parser.get_origin_label(), self.parser.get_sentence())\n",
    "                self.db_manager.commit(sql.encode())\n",
    "            \n",
    "#                 self.parser.print()\n",
    "#                 print(sql)\n",
    "#                 print('\\n\\n')\n",
    "\n",
    "            except KeyboardInterrupt :\n",
    "                print('\\n* Save Checkpoint: %d' % self.checkpoint)\n",
    "                break\n",
    "            except Exception as error :\n",
    "                fail_number += 1\n",
    "                print('********************  ' + str(xml) + '  ->  ' + str(error))\n",
    "                self.file_fail_list.write(str(xml) + '\\n')\n",
    "                continue\n",
    "        \n",
    "        self.file_checkpoint.write('\\n' + str(self.checkpoint) + ' | ' + str(datetime.datetime.now()))\n",
    "        self.file_checkpoint.close()\n",
    "        self.file_fail_list.close()\n",
    "        self.db_manager.finish()"
   ]
  },
  {
   "cell_type": "code",
   "execution_count": 74,
   "metadata": {
    "scrolled": true
   },
   "outputs": [
    {
     "name": "stdout",
     "output_type": "stream",
     "text": [
      "\n",
      "* Start Checkpoint: 140\n",
      "\n",
      "141 / 326004, Fail: 0\n",
      "\n",
      "* Save Checkpoint: 141\n",
      "* Elapsed Time : 0:00:01.625833\n",
      "\n"
     ]
    }
   ],
   "source": [
    "if __name__ == \"__main__\" :\n",
    "    startTime = datetime.datetime.now()\n",
    "    Main().run()\n",
    "    print('* Elapsed Time : ' + str(datetime.datetime.now() - startTime) + '\\n')"
   ]
  }
 ],
 "metadata": {
  "kernelspec": {
   "display_name": "Python 3",
   "language": "python",
   "name": "python3"
  },
  "language_info": {
   "codemirror_mode": {
    "name": "ipython",
    "version": 3
   },
   "file_extension": ".py",
   "mimetype": "text/x-python",
   "name": "python",
   "nbconvert_exporter": "python",
   "pygments_lexer": "ipython3",
   "version": "3.5.2"
  }
 },
 "nbformat": 4,
 "nbformat_minor": 2
}
