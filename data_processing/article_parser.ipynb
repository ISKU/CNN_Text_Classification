{
 "cells": [
  {
   "cell_type": "code",
   "execution_count": 20,
   "metadata": {
    "collapsed": true
   },
   "outputs": [],
   "source": [
    "import os\n",
    "import subprocess\n",
    "from bs4 import BeautifulSoup"
   ]
  },
  {
   "cell_type": "code",
   "execution_count": 21,
   "metadata": {
    "collapsed": true
   },
   "outputs": [],
   "source": [
    "path_default = \"data/\"\n",
    "path_target = \"articles.A-B.xml\"\n",
    "path_opennlp = \"apache-opennlp-1.8.1/\""
   ]
  },
  {
   "cell_type": "code",
   "execution_count": 22,
   "metadata": {},
   "outputs": [],
   "source": [
    "labels = {}\n",
    "file_label = open(path_default + 'Structured-Abstracts-Labels-102615.txt', 'r')\n",
    "for line in file_label.readlines() :\n",
    "    label = line.split('|')\n",
    "    labels[label[0]] = label[1]\n",
    "    \n",
    "#labels"
   ]
  },
  {
   "cell_type": "code",
   "execution_count": 23,
   "metadata": {},
   "outputs": [
    {
     "name": "stdout",
     "output_type": "stream",
     "text": [
      "Two symptom-based screening questionnaires, the Berlin Questionnaire (BQ) and the Epworth Sleepiness Scale (ESS), were administered to enroll 1509 gravidae.\n",
      "Screen positive subjects were referred for polysomnography (PSG).\n",
      "The primary outcome was the occurrence of either gestational hypertension or preeclampsia.\n",
      "[a1]Generalized linear models (GLM) were used to estimate the relative risks of associations.\n",
      "\n",
      "Execution time: 0.104 seconds\n",
      "\n"
     ]
    }
   ],
   "source": [
    "comment = 'Two symptom-based screening questionnaires, the Berlin Questionnaire (BQ) and the Epworth Sleepiness Scale (ESS), were administered to enroll 1509 gravidae. Screen positive subjects were referred for polysomnography (PSG). The primary outcome was the occurrence of either gestational hypertension or preeclampsia. [a1]Generalized linear models (GLM) were used to estimate the relative risks of associations.'\n",
    "process_nlp = subprocess.Popen([path_opennlp + 'bin/opennlp',  'SentenceDetector', path_opennlp + 'en-sent.bin'], stdin = subprocess.PIPE, stdout = subprocess.PIPE, stderr = subprocess.PIPE)\n",
    "result, stderr = process_nlp.communicate(comment.encode())\n",
    "for line in result.decode().split('\\n') :\n",
    "    print(line)"
   ]
  },
  {
   "cell_type": "code",
   "execution_count": null,
   "metadata": {
    "collapsed": true
   },
   "outputs": [],
   "source": []
  }
 ],
 "metadata": {
  "kernelspec": {
   "display_name": "Python 3",
   "language": "python",
   "name": "python3"
  },
  "language_info": {
   "codemirror_mode": {
    "name": "ipython",
    "version": 3
   },
   "file_extension": ".py",
   "mimetype": "text/x-python",
   "name": "python",
   "nbconvert_exporter": "python",
   "pygments_lexer": "ipython3",
   "version": "3.5.2"
  }
 },
 "nbformat": 4,
 "nbformat_minor": 2
}
