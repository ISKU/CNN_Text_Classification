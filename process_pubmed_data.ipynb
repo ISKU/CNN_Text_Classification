{
 "cells": [
  {
   "cell_type": "code",
   "execution_count": 1,
   "metadata": {
    "collapsed": true
   },
   "outputs": [],
   "source": [
    "from Bio import Entrez\n",
    "import pandas as pd\n",
    "import json\n",
    "import time\n",
    "import random\n",
    "import sys"
   ]
  },
  {
   "cell_type": "code",
   "execution_count": 2,
   "metadata": {
    "collapsed": true
   },
   "outputs": [],
   "source": [
    "def search(query):\n",
    "    Entrez.email = 'kensyrow@naver.com'\n",
    "    handle = Entrez.esearch(db='pubmed', \n",
    "                            sort='relevance', \n",
    "                            retmax='1000',\n",
    "                            retmode='xml', \n",
    "                            term=query)\n",
    "    results = Entrez.read(handle)\n",
    "    return results\n",
    "\n",
    "def fetch_details(id_list):\n",
    "    ids = ','.join(id_list)\n",
    "    Entrez.email = 'kensyrow@naver.com'\n",
    "    handle = Entrez.efetch(db='pubmed',\n",
    "                           retmode='xml',\n",
    "                           id=ids)\n",
    "    results = Entrez.read(handle)\n",
    "    return results"
   ]
  },
  {
   "cell_type": "code",
   "execution_count": 3,
   "metadata": {
    "collapsed": true
   },
   "outputs": [],
   "source": [
    "results = search('hasstructuredabstract')\n",
    "id_list = results['IdList']\n",
    "papers = fetch_details(id_list)"
   ]
  },
  {
   "cell_type": "code",
   "execution_count": 54,
   "metadata": {
    "collapsed": true
   },
   "outputs": [],
   "source": [
    "train_data = []\n",
    "test_data = []\n",
    "\n",
    "p = 0\n",
    "m = 0\n",
    "r = 0\n",
    "c = 0\n",
    "\n",
    "for paper in papers['PubmedArticle']:\n",
    "    struct = paper['MedlineCitation']['Article']['Abstract']['AbstractText']\n",
    "    if len(struct) >= 4:\n",
    "        for content in struct:\n",
    "            try:\n",
    "                label = str(content.attributes['Label']).upper()\n",
    "                \n",
    "                if label == 'PURPOSE':\n",
    "                    if p % 10 == 0 :\n",
    "                        test_data.append((1, \"'\" + str(content) + \"'\"))\n",
    "                    else:\n",
    "                        train_data.append((1, \"'\" + str(content) + \"'\"))\n",
    "                    p = p + 1\n",
    "                    \n",
    "                if label == 'METHODS':\n",
    "                    if m % 10 == 0 :\n",
    "                        test_data.append((2, \"'\" + str(content) + \"'\"))\n",
    "                    else:\n",
    "                        train_data.append((2, \"'\" + str(content) + \"'\"))\n",
    "                    m = m + 1\n",
    "                    \n",
    "                if label == 'RESULTS':\n",
    "                    if r % 10 == 0 :\n",
    "                        test_data.append((3, \"'\" + str(content) + \"'\"))\n",
    "                    else:\n",
    "                        train_data.append((3, \"'\" + str(content) + \"'\"))\n",
    "                    r = r + 1\n",
    "                    \n",
    "                if label == 'CONCLUSIONS':\n",
    "                    if c % 10 == 0 :\n",
    "                        test_data.append((4, \"'\" + str(content) + \"'\"))\n",
    "                    else:\n",
    "                        train_data.append((4, \"'\" + str(content) + \"'\"))\n",
    "                    c = c + 1\n",
    "                    \n",
    "            except:\n",
    "                pass"
   ]
  },
  {
   "cell_type": "code",
   "execution_count": 55,
   "metadata": {
    "collapsed": false
   },
   "outputs": [
    {
     "name": "stdout",
     "output_type": "stream",
     "text": [
      "train data size : 1628\n",
      "test data size : 183\n"
     ]
    }
   ],
   "source": [
    "print('train data size :', len(train_data))\n",
    "print('test data size :', len(test_data))"
   ]
  },
  {
   "cell_type": "code",
   "execution_count": 56,
   "metadata": {
    "collapsed": false
   },
   "outputs": [],
   "source": [
    "col_names = ['label', 'text']\n",
    "train_df = pd.DataFrame(train_data, columns=col_names)\n",
    "train_df = train_df.sort_values(by=['label'], ascending=[True])\n",
    "train_df.to_csv('pubmed_data/train.csv', header=False, index=False)"
   ]
  },
  {
   "cell_type": "code",
   "execution_count": 57,
   "metadata": {
    "collapsed": true
   },
   "outputs": [],
   "source": [
    "test_df = pd.DataFrame(test_data)\n",
    "test_df.to_csv('pubmed_data/test.csv', header=False, index=False)"
   ]
  }
 ],
 "metadata": {
  "anaconda-cloud": {},
  "kernelspec": {
   "display_name": "Python [conda root]",
   "language": "python",
   "name": "conda-root-py"
  },
  "language_info": {
   "codemirror_mode": {
    "name": "ipython",
    "version": 3
   },
   "file_extension": ".py",
   "mimetype": "text/x-python",
   "name": "python",
   "nbconvert_exporter": "python",
   "pygments_lexer": "ipython3",
   "version": "3.5.2"
  }
 },
 "nbformat": 4,
 "nbformat_minor": 2
}
